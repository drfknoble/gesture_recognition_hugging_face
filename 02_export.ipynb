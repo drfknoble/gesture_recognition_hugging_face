{
 "cells": [
  {
   "cell_type": "code",
   "execution_count": null,
   "metadata": {},
   "outputs": [],
   "source": [
    "import pathlib\n",
    "\n",
    "import numpy as np\n",
    "import torch\n",
    "import transformers"
   ]
  },
  {
   "cell_type": "code",
   "execution_count": null,
   "metadata": {},
   "outputs": [],
   "source": [
    "model_checkpoint = \"D:/saved_models/vit-base-patch16-224-in21k-finetuned-gestures/\"\n",
    "model = transformers.ViTForImageClassification.from_pretrained(model_checkpoint, )\n",
    "print(model)"
   ]
  },
  {
   "cell_type": "code",
   "execution_count": null,
   "metadata": {},
   "outputs": [],
   "source": [
    "export_checkpoint = \"D:/saved_models/vit-base-patch16-224-in21k-finetuned-gestures/onnx\"\n",
    "!python -m transformers.onnx --model=\"D:/saved_models/vit-base-patch16-224-in21k-finetuned-gestures/\" \"D:/saved_models/vit-base-patch16-224-in21k-finetuned-gestures/onnx\""
   ]
  }
 ],
 "metadata": {
  "kernelspec": {
   "display_name": "Python 3",
   "language": "python",
   "name": "python3"
  },
  "language_info": {
   "codemirror_mode": {
    "name": "ipython",
    "version": 3
   },
   "file_extension": ".py",
   "mimetype": "text/x-python",
   "name": "python",
   "nbconvert_exporter": "python",
   "pygments_lexer": "ipython3",
   "version": "3.8.10"
  },
  "orig_nbformat": 4
 },
 "nbformat": 4,
 "nbformat_minor": 2
}

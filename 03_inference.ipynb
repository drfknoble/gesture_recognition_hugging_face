{
 "cells": [
  {
   "cell_type": "code",
   "execution_count": 1,
   "metadata": {},
   "outputs": [
    {
     "name": "stderr",
     "output_type": "stream",
     "text": [
      "c:\\Python38\\lib\\site-packages\\tqdm\\auto.py:21: TqdmWarning: IProgress not found. Please update jupyter and ipywidgets. See https://ipywidgets.readthedocs.io/en/stable/user_install.html\n",
      "  from .autonotebook import tqdm as notebook_tqdm\n"
     ]
    }
   ],
   "source": [
    "import torch\n",
    "import transformers\n",
    "\n",
    "from PIL import Image"
   ]
  },
  {
   "cell_type": "code",
   "execution_count": 2,
   "metadata": {},
   "outputs": [],
   "source": [
    "img = Image.open(\"D:/my_gestures/val/01_one/0.jpg\")"
   ]
  },
  {
   "cell_type": "code",
   "execution_count": 3,
   "metadata": {},
   "outputs": [],
   "source": [
    "model_dir = \"D:/saved_models/vit-base-patch16-224-in21k-finetuned-gestures/\"\n",
    "\n",
    "feature_extractor = transformers.ViTImageProcessor.from_pretrained(model_dir)\n",
    "model = transformers.ViTForImageClassification.from_pretrained(model_dir)"
   ]
  },
  {
   "cell_type": "code",
   "execution_count": 4,
   "metadata": {},
   "outputs": [
    {
     "name": "stdout",
     "output_type": "stream",
     "text": [
      "torch.Size([1, 3, 224, 224])\n"
     ]
    }
   ],
   "source": [
    "encoding = feature_extractor(img.convert('RGB'), return_tensors='pt')\n",
    "print(encoding.pixel_values.shape)"
   ]
  },
  {
   "attachments": {},
   "cell_type": "markdown",
   "metadata": {},
   "source": [
    "PyTorch API"
   ]
  },
  {
   "cell_type": "code",
   "execution_count": 12,
   "metadata": {},
   "outputs": [
    {
     "name": "stdout",
     "output_type": "stream",
     "text": [
      "Elapsed time: 12.9848 ms\n",
      "Logits: tensor([[-1.1792,  6.7489, -0.3102, -1.8317, -1.7011, -1.2327]],\n",
      "       device='cuda:0')\n",
      "SoftMax: tensor([[3.5975e-04, 9.9804e-01, 8.5785e-04, 1.8734e-04, 2.1348e-04, 3.4101e-04]],\n",
      "       device='cuda:0')\n",
      "Confidence: 0.9980\n",
      "Predicted class ID: 1\n",
      "Predicted class: 01_one\n"
     ]
    }
   ],
   "source": [
    "import time\n",
    "\n",
    "device = torch.device('cuda')\n",
    "\n",
    "model.eval()\n",
    "with torch.no_grad():\n",
    "    start_time = time.time()\n",
    "    model.to(device)\n",
    "    encoding = encoding.to(device)\n",
    "    outputs = model(encoding.pixel_values)\n",
    "    elapsed = time.time() - start_time\n",
    "    logits = outputs.logits\n",
    "    sm = torch.nn.Softmax(dim=-1)(logits)\n",
    "\n",
    "print(f\"Elapsed time: {elapsed * 1000:.4f} ms\")\n",
    "\n",
    "predicted_class_idx = sm.argmax(-1).item()\n",
    "confidence = sm[-1][predicted_class_idx]\n",
    "\n",
    "print(f\"Logits: {logits}\")\n",
    "print(f\"SoftMax: {sm}\")\n",
    "print(f\"Confidence: {confidence:.4f}\")\n",
    "print(f\"Predicted class ID: {predicted_class_idx}\")\n",
    "print(f\"Predicted class: {model.config.id2label[predicted_class_idx]}\")"
   ]
  },
  {
   "attachments": {},
   "cell_type": "markdown",
   "metadata": {},
   "source": [
    "Pipeline API"
   ]
  },
  {
   "cell_type": "code",
   "execution_count": 13,
   "metadata": {},
   "outputs": [
    {
     "name": "stderr",
     "output_type": "stream",
     "text": [
      "c:\\Python38\\lib\\site-packages\\transformers\\models\\vit\\feature_extraction_vit.py:28: FutureWarning: The class ViTFeatureExtractor is deprecated and will be removed in version 5 of Transformers. Please use ViTImageProcessor instead.\n",
      "  warnings.warn(\n"
     ]
    },
    {
     "name": "stdout",
     "output_type": "stream",
     "text": [
      "Elapsed time: 49.9973 ms\n",
      "{'score': 0.9980406165122986, 'label': '01_one'}\n",
      "{'score': 0.0008578469860367477, 'label': '02_two'}\n",
      "{'score': 0.0003597516333684325, 'label': '00_fist'}\n",
      "{'score': 0.000341010803822428, 'label': '05_five'}\n",
      "{'score': 0.0002134784881491214, 'label': '04_four'}\n"
     ]
    }
   ],
   "source": [
    "pipe = transformers.pipeline('image-classification', model_dir, device=0)\n",
    "\n",
    "start_time = time.time()\n",
    "outputs = pipe(img)\n",
    "elapsed = time.time() - start_time\n",
    "print(f\"Elapsed time: {elapsed * 1000:.4f} ms\")\n",
    "\n",
    "for o in outputs:\n",
    "    print(o)"
   ]
  }
 ],
 "metadata": {
  "kernelspec": {
   "display_name": "Python 3",
   "language": "python",
   "name": "python3"
  },
  "language_info": {
   "codemirror_mode": {
    "name": "ipython",
    "version": 3
   },
   "file_extension": ".py",
   "mimetype": "text/x-python",
   "name": "python",
   "nbconvert_exporter": "python",
   "pygments_lexer": "ipython3",
   "version": "3.8.10"
  },
  "orig_nbformat": 4
 },
 "nbformat": 4,
 "nbformat_minor": 2
}
